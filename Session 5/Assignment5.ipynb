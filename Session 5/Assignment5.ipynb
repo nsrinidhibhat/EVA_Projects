{
  "nbformat": 4,
  "nbformat_minor": 0,
  "metadata": {
    "colab": {
      "name": "Assignment5.ipynb",
      "version": "0.3.2",
      "provenance": [],
      "collapsed_sections": []
    },
    "kernelspec": {
      "name": "python3",
      "display_name": "Python 3"
    },
    "accelerator": "GPU"
  },
  "cells": [
    {
      "cell_type": "code",
      "metadata": {
        "id": "0SJyVpgSxHt4",
        "colab_type": "code",
        "colab": {}
      },
      "source": [
        "#Importing libraries\n",
        "import numpy as np\n",
        "from keras.models import Sequential\n",
        "from keras.layers import Dense, Dropout, Activation, Flatten, Add, BatchNormalization\n",
        "from keras.layers import Convolution2D, MaxPooling2D\n",
        "from keras.utils import np_utils\n",
        "\n",
        "from keras.datasets import mnist"
      ],
      "execution_count": 0,
      "outputs": []
    },
    {
      "cell_type": "code",
      "metadata": {
        "id": "3HzMqbTnxQQW",
        "colab_type": "code",
        "colab": {}
      },
      "source": [
        "# /255 : To have pixel values in same range\n",
        "(X_train, y_train), (X_test, y_test) = mnist.load_data()\n",
        "X_train = X_train.astype('float32')\n",
        "X_test = X_test.astype('float32')\n",
        "X_train /= 255\n",
        "X_test /= 255"
      ],
      "execution_count": 0,
      "outputs": []
    },
    {
      "cell_type": "code",
      "metadata": {
        "id": "t6sFe4bOQFYP",
        "colab_type": "code",
        "colab": {}
      },
      "source": [
        "trainy_categorical = np_utils.to_categorical(y_train, 10)\n",
        "testy_categorical = np_utils.to_categorical(y_test, 10)"
      ],
      "execution_count": 0,
      "outputs": []
    },
    {
      "cell_type": "code",
      "metadata": {
        "id": "OuST1wo6IL9c",
        "colab_type": "code",
        "outputId": "ac979134-6962-46bd-ecd6-3a07c93e758b",
        "colab": {
          "base_uri": "https://localhost:8080/",
          "height": 110
        }
      },
      "source": [
        "print(np.shape(X_train))\n",
        "print(np.shape(X_test))\n",
        "# Dataset to have one channel\n",
        "w, h, c = X_train.shape[1], X_train.shape[2], 1\n",
        "X_train = X_train.reshape((X_train.shape[0], w, h, c))\n",
        "X_test = X_test.reshape((X_test.shape[0], w, h, c))\n",
        "print(np.shape(X_train))\n",
        "print(np.shape(X_test))\n",
        "\n",
        "#Mean and SD for Image Normalization\n",
        "print('Statistics train=%.3f (%.3f), test=%.3f (%.3f)' % (X_train.mean(), X_train.std(), X_test.mean(), X_test.std()))"
      ],
      "execution_count": 16,
      "outputs": [
        {
          "output_type": "stream",
          "text": [
            "(60000, 28, 28)\n",
            "(10000, 28, 28)\n",
            "(60000, 28, 28, 1)\n",
            "(10000, 28, 28, 1)\n",
            "Statistics train=0.131 (0.308), test=0.133 (0.310)\n"
          ],
          "name": "stdout"
        }
      ]
    },
    {
      "cell_type": "code",
      "metadata": {
        "id": "U1WXW1gaLwUu",
        "colab_type": "code",
        "colab": {}
      },
      "source": [
        "#Image Normalization\n",
        "from keras.preprocessing.image import ImageDataGenerator \n",
        "\n",
        "# Image generator - centers pixel values\n",
        "datagen = ImageDataGenerator(featurewise_center=True, featurewise_std_normalization=True)\n",
        "valid_datagen = ImageDataGenerator(featurewise_center=True, featurewise_std_normalization=True)\n",
        "\n",
        "datagen.fit(X_train)\n",
        "datagen.fit(X_test)"
      ],
      "execution_count": 0,
      "outputs": []
    },
    {
      "cell_type": "code",
      "metadata": {
        "id": "mDpXf4YQxXRm",
        "colab_type": "code",
        "outputId": "2fc730bd-8e8f-406a-d9f4-605bdbf77e74",
        "colab": {
          "base_uri": "https://localhost:8080/",
          "height": 1289
        }
      },
      "source": [
        "#L2 Regulatization\n",
        "#Added Relu activation after batch normalization\n",
        "from keras.layers import Activation\n",
        "from keras.regularizers import l2\n",
        "model = Sequential()\n",
        " \n",
        "# Input image = 28x28 with 1 channel\n",
        "# Convolved with 3x3 with 16 kernels\n",
        "# Output image will be = 26x26 with 16 channels\n",
        "model.add(Convolution2D(16, 3, 3,kernel_regularizer=l2(0.01), input_shape=(28,28,1))) #26\n",
        "model.add(BatchNormalization())\n",
        "model.add(Activation('relu'))\n",
        "#model.add(Dropout(0.1))\n",
        "\n",
        "# Input image = 26x26 with 16 channels\n",
        "# Convolved with 3x3 with 32 kernels\n",
        "# Output image will be = 24x24 with 32 channels\n",
        "model.add(Convolution2D(32, 3, 3,kernel_regularizer=l2(0.01))) #24\n",
        "model.add(BatchNormalization())\n",
        "model.add(Activation('relu'))\n",
        "#model.add(Dropout(0.2))\n",
        "\n",
        "# Input image = 24x24 with 32 channels\n",
        "# Convolved with 1x1 with 10 kernels\n",
        "# Output image will be = 22x22 with 10 channels\n",
        "model.add(Convolution2D(10, 1, 1,kernel_regularizer=l2(0.01))) #22\n",
        "model.add(Activation('relu'))\n",
        "\n",
        "# -----------> Max Pooling <------------------\n",
        "model.add(MaxPooling2D(pool_size=(2, 2)))#11\n",
        "\n",
        "# Input image = 12x12 with 10 channels\n",
        "# Convolved with 3x3 with 16 kernels\n",
        "# Output image will be = 10x10 with 16 channels\n",
        "model.add(Convolution2D(16, 3, 3,kernel_regularizer=l2(0.01)))\n",
        "model.add(BatchNormalization())\n",
        "model.add(Activation('relu'))\n",
        "#model.add(Dropout(0.1))\n",
        "\n",
        "# Input image = 10x10 with 16 channels\n",
        "# Convolved with 3x3 with 16 kernels\n",
        "# Output image will be = 8x8 with 16 channels\n",
        "model.add(Convolution2D(16, 3, 3,kernel_regularizer=l2(0.01)))\n",
        "model.add(BatchNormalization())\n",
        "model.add(Activation('relu'))\n",
        "#model.add(Dropout(0.1))\n",
        "\n",
        "# Input image =8x8 with 16 channels\n",
        "# Convolved with 3x3 with 16 kernels\n",
        "# Output image will be = 6x6 with 16 channels\n",
        "model.add(Convolution2D(16, 3, 3,kernel_regularizer=l2(0.01)))\n",
        "model.add(BatchNormalization())\n",
        "model.add(Activation('relu'))\n",
        "#model.add(Dropout(0.2))\n",
        "\n",
        "# Input image = 6x6 with 16 channels\n",
        "# Convolved with 3x3 with 16 kernels\n",
        "# Output image will be = 4x4 with 16 channels\n",
        "model.add(Convolution2D(16, 3, 3,kernel_regularizer=l2(0.01)))\n",
        "model.add(BatchNormalization())\n",
        "model.add(Activation('relu'))\n",
        "#model.add(Dropout(0.1))\n",
        "\n",
        "# Input image = 4x4 with 16 channels\n",
        "# Convolved with 4x4 with 10 kernels\n",
        "# Output image will be = 1x1 with 10 channels\n",
        "model.add(Convolution2D(10, 4, 4))\n",
        "model.add(BatchNormalization())\n",
        "#model.add(Dropout(0.1))\n",
        "\n",
        "# Last Layer\n",
        "model.add(Flatten())\n",
        "model.add(Activation('softmax'))\n",
        "model.summary()"
      ],
      "execution_count": 18,
      "outputs": [
        {
          "output_type": "stream",
          "text": [
            "/usr/local/lib/python3.6/dist-packages/ipykernel_launcher.py:8: UserWarning: Update your `Conv2D` call to the Keras 2 API: `Conv2D(16, (3, 3), kernel_regularizer=<keras.reg..., input_shape=(28, 28, 1...)`\n",
            "  \n",
            "/usr/local/lib/python3.6/dist-packages/ipykernel_launcher.py:16: UserWarning: Update your `Conv2D` call to the Keras 2 API: `Conv2D(32, (3, 3), kernel_regularizer=<keras.reg...)`\n",
            "  app.launch_new_instance()\n",
            "/usr/local/lib/python3.6/dist-packages/ipykernel_launcher.py:24: UserWarning: Update your `Conv2D` call to the Keras 2 API: `Conv2D(10, (1, 1), kernel_regularizer=<keras.reg...)`\n",
            "/usr/local/lib/python3.6/dist-packages/ipykernel_launcher.py:33: UserWarning: Update your `Conv2D` call to the Keras 2 API: `Conv2D(16, (3, 3), kernel_regularizer=<keras.reg...)`\n",
            "/usr/local/lib/python3.6/dist-packages/ipykernel_launcher.py:41: UserWarning: Update your `Conv2D` call to the Keras 2 API: `Conv2D(16, (3, 3), kernel_regularizer=<keras.reg...)`\n",
            "/usr/local/lib/python3.6/dist-packages/ipykernel_launcher.py:49: UserWarning: Update your `Conv2D` call to the Keras 2 API: `Conv2D(16, (3, 3), kernel_regularizer=<keras.reg...)`\n",
            "/usr/local/lib/python3.6/dist-packages/ipykernel_launcher.py:57: UserWarning: Update your `Conv2D` call to the Keras 2 API: `Conv2D(16, (3, 3), kernel_regularizer=<keras.reg...)`\n",
            "/usr/local/lib/python3.6/dist-packages/ipykernel_launcher.py:65: UserWarning: Update your `Conv2D` call to the Keras 2 API: `Conv2D(10, (4, 4))`\n"
          ],
          "name": "stderr"
        },
        {
          "output_type": "stream",
          "text": [
            "_________________________________________________________________\n",
            "Layer (type)                 Output Shape              Param #   \n",
            "=================================================================\n",
            "conv2d_9 (Conv2D)            (None, 26, 26, 16)        160       \n",
            "_________________________________________________________________\n",
            "batch_normalization_8 (Batch (None, 26, 26, 16)        64        \n",
            "_________________________________________________________________\n",
            "activation_9 (Activation)    (None, 26, 26, 16)        0         \n",
            "_________________________________________________________________\n",
            "conv2d_10 (Conv2D)           (None, 24, 24, 32)        4640      \n",
            "_________________________________________________________________\n",
            "batch_normalization_9 (Batch (None, 24, 24, 32)        128       \n",
            "_________________________________________________________________\n",
            "activation_10 (Activation)   (None, 24, 24, 32)        0         \n",
            "_________________________________________________________________\n",
            "conv2d_11 (Conv2D)           (None, 24, 24, 10)        330       \n",
            "_________________________________________________________________\n",
            "activation_11 (Activation)   (None, 24, 24, 10)        0         \n",
            "_________________________________________________________________\n",
            "max_pooling2d_2 (MaxPooling2 (None, 12, 12, 10)        0         \n",
            "_________________________________________________________________\n",
            "conv2d_12 (Conv2D)           (None, 10, 10, 16)        1456      \n",
            "_________________________________________________________________\n",
            "batch_normalization_10 (Batc (None, 10, 10, 16)        64        \n",
            "_________________________________________________________________\n",
            "activation_12 (Activation)   (None, 10, 10, 16)        0         \n",
            "_________________________________________________________________\n",
            "conv2d_13 (Conv2D)           (None, 8, 8, 16)          2320      \n",
            "_________________________________________________________________\n",
            "batch_normalization_11 (Batc (None, 8, 8, 16)          64        \n",
            "_________________________________________________________________\n",
            "activation_13 (Activation)   (None, 8, 8, 16)          0         \n",
            "_________________________________________________________________\n",
            "conv2d_14 (Conv2D)           (None, 6, 6, 16)          2320      \n",
            "_________________________________________________________________\n",
            "batch_normalization_12 (Batc (None, 6, 6, 16)          64        \n",
            "_________________________________________________________________\n",
            "activation_14 (Activation)   (None, 6, 6, 16)          0         \n",
            "_________________________________________________________________\n",
            "conv2d_15 (Conv2D)           (None, 4, 4, 16)          2320      \n",
            "_________________________________________________________________\n",
            "batch_normalization_13 (Batc (None, 4, 4, 16)          64        \n",
            "_________________________________________________________________\n",
            "activation_15 (Activation)   (None, 4, 4, 16)          0         \n",
            "_________________________________________________________________\n",
            "conv2d_16 (Conv2D)           (None, 1, 1, 10)          2570      \n",
            "_________________________________________________________________\n",
            "batch_normalization_14 (Batc (None, 1, 1, 10)          40        \n",
            "_________________________________________________________________\n",
            "flatten_2 (Flatten)          (None, 10)                0         \n",
            "_________________________________________________________________\n",
            "activation_16 (Activation)   (None, 10)                0         \n",
            "=================================================================\n",
            "Total params: 16,604\n",
            "Trainable params: 16,360\n",
            "Non-trainable params: 244\n",
            "_________________________________________________________________\n"
          ],
          "name": "stdout"
        }
      ]
    },
    {
      "cell_type": "code",
      "metadata": {
        "id": "L2IicGJ4x3Be",
        "colab_type": "code",
        "outputId": "e674b46d-2546-4af3-c1c6-25a7c2a05f6c",
        "colab": {
          "base_uri": "https://localhost:8080/",
          "height": 4614
        }
      },
      "source": [
        "#Checkpoint to save the model with best val accuracy\n",
        "# Learning rate scheduler\n",
        "from keras.optimizers import Adam\n",
        "from keras.callbacks import LearningRateScheduler\n",
        "from keras.callbacks import *\n",
        "def scheduler(epoch, lr):\n",
        "  return round(0.003 * 1/(1 + 0.319 * epoch), 10)\n",
        "model.compile(loss='categorical_crossentropy', optimizer=Adam(lr=0.003), metrics=['accuracy'])\n",
        "filepath='./Assignemnt5.hdf5'\n",
        "checkpoint = ModelCheckpoint(filepath, monitor = 'val_acc', verbose=1, save_best_only=True, save_weights_only=False, mode='max',  period=1)\n",
        "model.fit_generator(datagen.flow(X_train, trainy_categorical, batch_size=512),\n",
        "                    steps_per_epoch=len(X_train) / 512, \n",
        "                    epochs=40,validation_data=valid_datagen.flow(X_test, testy_categorical, batch_size=128),\n",
        "                   callbacks=[LearningRateScheduler(scheduler, verbose=1),checkpoint],\n",
        "                   validation_steps=64)\n"
      ],
      "execution_count": 19,
      "outputs": [
        {
          "output_type": "stream",
          "text": [
            "Epoch 1/40\n"
          ],
          "name": "stdout"
        },
        {
          "output_type": "stream",
          "text": [
            "/usr/local/lib/python3.6/dist-packages/keras_preprocessing/image/image_data_generator.py:699: UserWarning: This ImageDataGenerator specifies `featurewise_center`, but it hasn't been fit on any training data. Fit it first by calling `.fit(numpy_data)`.\n",
            "  warnings.warn('This ImageDataGenerator specifies '\n",
            "/usr/local/lib/python3.6/dist-packages/keras_preprocessing/image/image_data_generator.py:707: UserWarning: This ImageDataGenerator specifies `featurewise_std_normalization`, but it hasn't been fit on any training data. Fit it first by calling `.fit(numpy_data)`.\n",
            "  warnings.warn('This ImageDataGenerator specifies '\n"
          ],
          "name": "stderr"
        },
        {
          "output_type": "stream",
          "text": [
            "\n",
            "Epoch 00001: LearningRateScheduler setting learning rate to 0.003.\n",
            "118/117 [==============================] - 5s 44ms/step - loss: 1.1106 - acc: 0.9090 - val_loss: 2.5163 - val_acc: 0.0881\n",
            "\n",
            "Epoch 00001: val_acc improved from -inf to 0.08813, saving model to ./Assignemnt5.hdf5\n",
            "Epoch 2/40\n",
            "\n",
            "Epoch 00002: LearningRateScheduler setting learning rate to 0.0022744503.\n",
            "118/117 [==============================] - 3s 27ms/step - loss: 0.3150 - acc: 0.9840 - val_loss: 2.3932 - val_acc: 0.0920\n",
            "\n",
            "Epoch 00002: val_acc improved from 0.08813 to 0.09196, saving model to ./Assignemnt5.hdf5\n",
            "Epoch 3/40\n",
            "\n",
            "Epoch 00003: LearningRateScheduler setting learning rate to 0.0018315018.\n",
            "118/117 [==============================] - 3s 26ms/step - loss: 0.1896 - acc: 0.9867 - val_loss: 2.1949 - val_acc: 0.1764\n",
            "\n",
            "Epoch 00003: val_acc improved from 0.09196 to 0.17636, saving model to ./Assignemnt5.hdf5\n",
            "Epoch 4/40\n",
            "\n",
            "Epoch 00004: LearningRateScheduler setting learning rate to 0.0015329586.\n",
            "118/117 [==============================] - 3s 26ms/step - loss: 0.1421 - acc: 0.9894 - val_loss: 1.9234 - val_acc: 0.2911\n",
            "\n",
            "Epoch 00004: val_acc improved from 0.17636 to 0.29109, saving model to ./Assignemnt5.hdf5\n",
            "Epoch 5/40\n",
            "\n",
            "Epoch 00005: LearningRateScheduler setting learning rate to 0.0013181019.\n",
            "118/117 [==============================] - 3s 26ms/step - loss: 0.1193 - acc: 0.9899 - val_loss: 1.8335 - val_acc: 0.3380\n",
            "\n",
            "Epoch 00005: val_acc improved from 0.29109 to 0.33800, saving model to ./Assignemnt5.hdf5\n",
            "Epoch 6/40\n",
            "\n",
            "Epoch 00006: LearningRateScheduler setting learning rate to 0.0011560694.\n",
            "118/117 [==============================] - 3s 26ms/step - loss: 0.1034 - acc: 0.9904 - val_loss: 1.5124 - val_acc: 0.4305\n",
            "\n",
            "Epoch 00006: val_acc improved from 0.33800 to 0.43054, saving model to ./Assignemnt5.hdf5\n",
            "Epoch 7/40\n",
            "\n",
            "Epoch 00007: LearningRateScheduler setting learning rate to 0.0010295127.\n",
            "118/117 [==============================] - 3s 26ms/step - loss: 0.0938 - acc: 0.9916 - val_loss: 0.8149 - val_acc: 0.7764\n",
            "\n",
            "Epoch 00007: val_acc improved from 0.43054 to 0.77636, saving model to ./Assignemnt5.hdf5\n",
            "Epoch 8/40\n",
            "\n",
            "Epoch 00008: LearningRateScheduler setting learning rate to 0.0009279307.\n",
            "118/117 [==============================] - 3s 26ms/step - loss: 0.0827 - acc: 0.9924 - val_loss: 0.5037 - val_acc: 0.8874\n",
            "\n",
            "Epoch 00008: val_acc improved from 0.77636 to 0.88738, saving model to ./Assignemnt5.hdf5\n",
            "Epoch 9/40\n",
            "\n",
            "Epoch 00009: LearningRateScheduler setting learning rate to 0.0008445946.\n",
            "118/117 [==============================] - 3s 26ms/step - loss: 0.0771 - acc: 0.9924 - val_loss: 0.7364 - val_acc: 0.7740\n",
            "\n",
            "Epoch 00009: val_acc did not improve from 0.88738\n",
            "Epoch 10/40\n",
            "\n",
            "Epoch 00010: LearningRateScheduler setting learning rate to 0.0007749935.\n",
            "118/117 [==============================] - 3s 26ms/step - loss: 0.0706 - acc: 0.9931 - val_loss: 0.6939 - val_acc: 0.7952\n",
            "\n",
            "Epoch 00010: val_acc did not improve from 0.88738\n",
            "Epoch 11/40\n",
            "\n",
            "Epoch 00011: LearningRateScheduler setting learning rate to 0.0007159905.\n",
            "118/117 [==============================] - 3s 26ms/step - loss: 0.0675 - acc: 0.9930 - val_loss: 0.2317 - val_acc: 0.9640\n",
            "\n",
            "Epoch 00011: val_acc improved from 0.88738 to 0.96399, saving model to ./Assignemnt5.hdf5\n",
            "Epoch 12/40\n",
            "\n",
            "Epoch 00012: LearningRateScheduler setting learning rate to 0.000665336.\n",
            "118/117 [==============================] - 3s 26ms/step - loss: 0.0631 - acc: 0.9934 - val_loss: 0.4042 - val_acc: 0.8952\n",
            "\n",
            "Epoch 00012: val_acc did not improve from 0.96399\n",
            "Epoch 13/40\n",
            "\n",
            "Epoch 00013: LearningRateScheduler setting learning rate to 0.0006213753.\n",
            "118/117 [==============================] - 3s 26ms/step - loss: 0.0603 - acc: 0.9939 - val_loss: 0.3458 - val_acc: 0.9276\n",
            "\n",
            "Epoch 00013: val_acc did not improve from 0.96399\n",
            "Epoch 14/40\n",
            "\n",
            "Epoch 00014: LearningRateScheduler setting learning rate to 0.0005828638.\n",
            "118/117 [==============================] - 3s 26ms/step - loss: 0.0571 - acc: 0.9942 - val_loss: 0.2386 - val_acc: 0.9491\n",
            "\n",
            "Epoch 00014: val_acc did not improve from 0.96399\n",
            "Epoch 15/40\n",
            "\n",
            "Epoch 00015: LearningRateScheduler setting learning rate to 0.0005488474.\n",
            "118/117 [==============================] - 3s 26ms/step - loss: 0.0551 - acc: 0.9945 - val_loss: 0.3846 - val_acc: 0.8969\n",
            "\n",
            "Epoch 00015: val_acc did not improve from 0.96399\n",
            "Epoch 16/40\n",
            "\n",
            "Epoch 00016: LearningRateScheduler setting learning rate to 0.0005185825.\n",
            "118/117 [==============================] - 3s 26ms/step - loss: 0.0495 - acc: 0.9953 - val_loss: 0.2861 - val_acc: 0.9417\n",
            "\n",
            "Epoch 00016: val_acc did not improve from 0.96399\n",
            "Epoch 17/40\n",
            "\n",
            "Epoch 00017: LearningRateScheduler setting learning rate to 0.000491481.\n",
            "118/117 [==============================] - 3s 26ms/step - loss: 0.0473 - acc: 0.9954 - val_loss: 0.3457 - val_acc: 0.9194\n",
            "\n",
            "Epoch 00017: val_acc did not improve from 0.96399\n",
            "Epoch 18/40\n",
            "\n",
            "Epoch 00018: LearningRateScheduler setting learning rate to 0.0004670715.\n",
            "118/117 [==============================] - 3s 26ms/step - loss: 0.0459 - acc: 0.9955 - val_loss: 0.4933 - val_acc: 0.8427\n",
            "\n",
            "Epoch 00018: val_acc did not improve from 0.96399\n",
            "Epoch 19/40\n",
            "\n",
            "Epoch 00019: LearningRateScheduler setting learning rate to 0.0004449718.\n",
            "118/117 [==============================] - 3s 26ms/step - loss: 0.0458 - acc: 0.9952 - val_loss: 0.2116 - val_acc: 0.9605\n",
            "\n",
            "Epoch 00019: val_acc did not improve from 0.96399\n",
            "Epoch 20/40\n",
            "\n",
            "Epoch 00020: LearningRateScheduler setting learning rate to 0.000424869.\n",
            "118/117 [==============================] - 3s 26ms/step - loss: 0.0438 - acc: 0.9955 - val_loss: 0.3249 - val_acc: 0.9108\n",
            "\n",
            "Epoch 00020: val_acc did not improve from 0.96399\n",
            "Epoch 21/40\n",
            "\n",
            "Epoch 00021: LearningRateScheduler setting learning rate to 0.0004065041.\n",
            "118/117 [==============================] - 3s 26ms/step - loss: 0.0413 - acc: 0.9960 - val_loss: 0.4713 - val_acc: 0.8662\n",
            "\n",
            "Epoch 00021: val_acc did not improve from 0.96399\n",
            "Epoch 22/40\n",
            "\n",
            "Epoch 00022: LearningRateScheduler setting learning rate to 0.000389661.\n",
            "118/117 [==============================] - 3s 26ms/step - loss: 0.0383 - acc: 0.9964 - val_loss: 0.2571 - val_acc: 0.9340\n",
            "\n",
            "Epoch 00022: val_acc did not improve from 0.96399\n",
            "Epoch 23/40\n",
            "\n",
            "Epoch 00023: LearningRateScheduler setting learning rate to 0.0003741581.\n",
            "118/117 [==============================] - 3s 26ms/step - loss: 0.0369 - acc: 0.9965 - val_loss: 0.4021 - val_acc: 0.9032\n",
            "\n",
            "Epoch 00023: val_acc did not improve from 0.96399\n",
            "Epoch 24/40\n",
            "\n",
            "Epoch 00024: LearningRateScheduler setting learning rate to 0.0003598417.\n",
            "118/117 [==============================] - 3s 26ms/step - loss: 0.0378 - acc: 0.9966 - val_loss: 0.1671 - val_acc: 0.9653\n",
            "\n",
            "Epoch 00024: val_acc improved from 0.96399 to 0.96535, saving model to ./Assignemnt5.hdf5\n",
            "Epoch 25/40\n",
            "\n",
            "Epoch 00025: LearningRateScheduler setting learning rate to 0.0003465804.\n",
            "118/117 [==============================] - 3s 26ms/step - loss: 0.0366 - acc: 0.9964 - val_loss: 0.2467 - val_acc: 0.9438\n",
            "\n",
            "Epoch 00025: val_acc did not improve from 0.96535\n",
            "Epoch 26/40\n",
            "\n",
            "Epoch 00026: LearningRateScheduler setting learning rate to 0.0003342618.\n",
            "118/117 [==============================] - 3s 26ms/step - loss: 0.0356 - acc: 0.9963 - val_loss: 0.5134 - val_acc: 0.8327\n",
            "\n",
            "Epoch 00026: val_acc did not improve from 0.96535\n",
            "Epoch 27/40\n",
            "\n",
            "Epoch 00027: LearningRateScheduler setting learning rate to 0.0003227889.\n",
            "118/117 [==============================] - 3s 26ms/step - loss: 0.0319 - acc: 0.9975 - val_loss: 0.9790 - val_acc: 0.6669\n",
            "\n",
            "Epoch 00027: val_acc did not improve from 0.96535\n",
            "Epoch 28/40\n",
            "\n",
            "Epoch 00028: LearningRateScheduler setting learning rate to 0.0003120774.\n",
            "118/117 [==============================] - 3s 26ms/step - loss: 0.0308 - acc: 0.9975 - val_loss: 0.6969 - val_acc: 0.7629\n",
            "\n",
            "Epoch 00028: val_acc did not improve from 0.96535\n",
            "Epoch 29/40\n",
            "\n",
            "Epoch 00029: LearningRateScheduler setting learning rate to 0.000302054.\n",
            "118/117 [==============================] - 3s 26ms/step - loss: 0.0296 - acc: 0.9975 - val_loss: 0.2746 - val_acc: 0.9230\n",
            "\n",
            "Epoch 00029: val_acc did not improve from 0.96535\n",
            "Epoch 30/40\n",
            "\n",
            "Epoch 00030: LearningRateScheduler setting learning rate to 0.0002926544.\n",
            "118/117 [==============================] - 3s 26ms/step - loss: 0.0303 - acc: 0.9972 - val_loss: 0.2367 - val_acc: 0.9345\n",
            "\n",
            "Epoch 00030: val_acc did not improve from 0.96535\n",
            "Epoch 31/40\n",
            "\n",
            "Epoch 00031: LearningRateScheduler setting learning rate to 0.0002838221.\n",
            "118/117 [==============================] - 3s 26ms/step - loss: 0.0293 - acc: 0.9974 - val_loss: 0.3170 - val_acc: 0.9142\n",
            "\n",
            "Epoch 00031: val_acc did not improve from 0.96535\n",
            "Epoch 32/40\n",
            "\n",
            "Epoch 00032: LearningRateScheduler setting learning rate to 0.0002755074.\n",
            "118/117 [==============================] - 3s 26ms/step - loss: 0.0272 - acc: 0.9979 - val_loss: 0.3771 - val_acc: 0.8905\n",
            "\n",
            "Epoch 00032: val_acc did not improve from 0.96535\n",
            "Epoch 33/40\n",
            "\n",
            "Epoch 00033: LearningRateScheduler setting learning rate to 0.000267666.\n",
            "118/117 [==============================] - 3s 26ms/step - loss: 0.0279 - acc: 0.9973 - val_loss: 0.2959 - val_acc: 0.9136\n",
            "\n",
            "Epoch 00033: val_acc did not improve from 0.96535\n",
            "Epoch 34/40\n",
            "\n",
            "Epoch 00034: LearningRateScheduler setting learning rate to 0.0002602585.\n",
            "118/117 [==============================] - 3s 26ms/step - loss: 0.0257 - acc: 0.9981 - val_loss: 0.3431 - val_acc: 0.8958\n",
            "\n",
            "Epoch 00034: val_acc did not improve from 0.96535\n",
            "Epoch 35/40\n",
            "\n",
            "Epoch 00035: LearningRateScheduler setting learning rate to 0.00025325.\n",
            "118/117 [==============================] - 3s 26ms/step - loss: 0.0255 - acc: 0.9979 - val_loss: 0.1600 - val_acc: 0.9635\n",
            "\n",
            "Epoch 00035: val_acc did not improve from 0.96535\n",
            "Epoch 36/40\n",
            "\n",
            "Epoch 00036: LearningRateScheduler setting learning rate to 0.0002466091.\n",
            "118/117 [==============================] - 3s 26ms/step - loss: 0.0229 - acc: 0.9986 - val_loss: 0.1893 - val_acc: 0.9551\n",
            "\n",
            "Epoch 00036: val_acc did not improve from 0.96535\n",
            "Epoch 37/40\n",
            "\n",
            "Epoch 00037: LearningRateScheduler setting learning rate to 0.0002403076.\n",
            "118/117 [==============================] - 3s 26ms/step - loss: 0.0216 - acc: 0.9989 - val_loss: 0.2002 - val_acc: 0.9501\n",
            "\n",
            "Epoch 00037: val_acc did not improve from 0.96535\n",
            "Epoch 38/40\n",
            "\n",
            "Epoch 00038: LearningRateScheduler setting learning rate to 0.0002343201.\n",
            "118/117 [==============================] - 3s 26ms/step - loss: 0.0218 - acc: 0.9985 - val_loss: 0.2145 - val_acc: 0.9386\n",
            "\n",
            "Epoch 00038: val_acc did not improve from 0.96535\n",
            "Epoch 39/40\n",
            "\n",
            "Epoch 00039: LearningRateScheduler setting learning rate to 0.0002286237.\n",
            "118/117 [==============================] - 3s 26ms/step - loss: 0.0219 - acc: 0.9984 - val_loss: 0.2289 - val_acc: 0.9307\n",
            "\n",
            "Epoch 00039: val_acc did not improve from 0.96535\n",
            "Epoch 40/40\n",
            "\n",
            "Epoch 00040: LearningRateScheduler setting learning rate to 0.0002231977.\n",
            "118/117 [==============================] - 3s 26ms/step - loss: 0.0215 - acc: 0.9984 - val_loss: 0.2604 - val_acc: 0.9226\n",
            "\n",
            "Epoch 00040: val_acc did not improve from 0.96535\n"
          ],
          "name": "stdout"
        },
        {
          "output_type": "execute_result",
          "data": {
            "text/plain": [
              "<keras.callbacks.History at 0x7f345dd25f60>"
            ]
          },
          "metadata": {
            "tags": []
          },
          "execution_count": 19
        }
      ]
    },
    {
      "cell_type": "code",
      "metadata": {
        "id": "WLxlW9ufyQiO",
        "colab_type": "code",
        "colab": {
          "base_uri": "https://localhost:8080/",
          "height": 36
        },
        "outputId": "3f91472b-c65c-43b3-b9e3-596fd13c8e68"
      },
      "source": [
        "#Getting the best model and working on that\n",
        "from keras.models import load_model\n",
        "from keras.optimizers import Adam\n",
        "model = load_model('Assignemnt5.hdf5')\n",
        "model.compile(loss='categorical_crossentropy', optimizer=Adam(lr=0.003), metrics=['accuracy'])\n",
        "score = model.evaluate(X_test, testy_categorical, verbose=0)\n",
        "print(score)"
      ],
      "execution_count": 20,
      "outputs": [
        {
          "output_type": "stream",
          "text": [
            "[0.1630799171566963, 0.9672]\n"
          ],
          "name": "stdout"
        }
      ]
    },
    {
      "cell_type": "code",
      "metadata": {
        "id": "m2qDl21ozBnW",
        "colab_type": "code",
        "colab": {}
      },
      "source": [
        "#Predicting the values of the test data \n",
        "y_pred = model.predict(X_test)"
      ],
      "execution_count": 0,
      "outputs": []
    },
    {
      "cell_type": "code",
      "metadata": {
        "id": "WPWpfbWTwtyD",
        "colab_type": "code",
        "colab": {
          "base_uri": "https://localhost:8080/",
          "height": 596
        },
        "outputId": "4f14f748-a9ca-49b8-e972-c904620438b3"
      },
      "source": [
        "print(y_pred[:10])\n",
        "print(y_test[:10])"
      ],
      "execution_count": 22,
      "outputs": [
        {
          "output_type": "stream",
          "text": [
            "[[1.21411169e-03 8.19021021e-04 1.20440207e-03 3.04241985e-04\n",
            "  6.13191165e-04 7.07692176e-04 1.38540316e-04 9.93388772e-01\n",
            "  3.37282981e-04 1.27273065e-03]\n",
            " [1.24972332e-02 2.53250059e-02 9.35515046e-01 4.80561238e-03\n",
            "  3.93022259e-04 2.13586236e-03 1.30128758e-02 2.41997209e-03\n",
            "  2.71752430e-03 1.17778720e-03]\n",
            " [5.42951515e-04 9.88962710e-01 9.35702003e-04 3.86382046e-04\n",
            "  5.84693626e-04 1.29569601e-03 1.09419168e-03 3.21909506e-03\n",
            "  3.76349839e-04 2.60237954e-03]\n",
            " [9.93575871e-01 6.75066607e-04 1.09269575e-04 8.49569566e-04\n",
            "  1.10433996e-03 4.32385976e-04 5.80387539e-04 1.45652192e-03\n",
            "  1.05046958e-03 1.66201353e-04]\n",
            " [5.97841339e-03 3.36345881e-02 5.85054001e-03 4.16348176e-03\n",
            "  9.24209297e-01 3.37429205e-03 4.78234934e-03 5.56205027e-03\n",
            "  1.54606253e-03 1.08989105e-02]\n",
            " [7.41438009e-04 9.85143244e-01 1.06104033e-03 6.97104260e-04\n",
            "  6.74561772e-04 1.20456051e-03 1.50464359e-03 5.76046715e-03\n",
            "  5.56623912e-04 2.65635154e-03]\n",
            " [5.76946361e-04 1.44197885e-02 1.56674813e-03 1.55900361e-03\n",
            "  9.48108792e-01 3.35206510e-03 1.22478860e-03 1.56257693e-02\n",
            "  9.24828462e-03 4.31782706e-03]\n",
            " [5.76421618e-03 1.00015476e-02 1.05080856e-02 4.13127476e-03\n",
            "  1.44887149e-01 1.81548242e-02 1.20927370e-03 6.89700153e-03\n",
            "  4.68617640e-02 7.51584828e-01]\n",
            " [1.12579893e-02 1.12156651e-03 1.18234451e-03 1.40181603e-02\n",
            "  2.14176741e-03 7.14653373e-01 2.10696533e-01 3.48798446e-02\n",
            "  8.29169340e-03 1.75669615e-03]\n",
            " [2.54476839e-03 2.83528771e-03 2.47137039e-03 1.91054691e-03\n",
            "  8.54978263e-02 6.54705008e-03 7.08201609e-04 1.56044224e-02\n",
            "  1.90706905e-02 8.62809896e-01]]\n",
            "[7 2 1 0 4 1 4 9 5 9]\n"
          ],
          "name": "stdout"
        }
      ]
    },
    {
      "cell_type": "code",
      "metadata": {
        "id": "0vr3FVE6yOl7",
        "colab_type": "code",
        "colab": {
          "base_uri": "https://localhost:8080/",
          "height": 73
        },
        "outputId": "dd0577e0-cc99-4d6e-af83-a048e15097a7"
      },
      "source": [
        "# Calculating maximum value's indices at every row\n",
        "# Get the first 25 wrong predicted images here\n",
        "PredictedValues = np.argmax(y_pred, axis=1)\n",
        "print(np.shape(PredictedValues))\n",
        "print(np.shape(y_test))\n",
        "indices = list()\n",
        "# getting all the samples for which model predicted wrongly\n",
        "for i in range(10000):\n",
        "  if(PredictedValues[i] != y_test[i]):\n",
        "    indices.append(i)\n",
        "  \n",
        "# First 25 wrongly predicted image indices\n",
        "print(indices[:25])"
      ],
      "execution_count": 23,
      "outputs": [
        {
          "output_type": "stream",
          "text": [
            "(10000,)\n",
            "(10000,)\n",
            "[11, 18, 33, 66, 78, 104, 115, 151, 160, 175, 193, 259, 318, 321, 325, 341, 359, 366, 421, 443, 445, 449, 450, 462, 464]\n"
          ],
          "name": "stdout"
        }
      ]
    },
    {
      "cell_type": "code",
      "metadata": {
        "id": "DmjbsQxX6SO_",
        "colab_type": "code",
        "colab": {
          "base_uri": "https://localhost:8080/",
          "height": 288
        },
        "outputId": "4098f9c6-1a46-4049-98b6-9a2ae70ad9b7"
      },
      "source": [
        "(X_train_load, y_train_load), (X_test_load, y_test_load) = mnist.load_data()\n",
        "#Form the grid\n",
        "output  = np.concatenate((X_test_load[indices[0]],X_test_load[indices[1]],X_test_load[indices[2]],X_test_load[indices[3]],X_test_load[indices[4]]),axis=1)\n",
        "output1 = np.concatenate((X_test_load[indices[5]],X_test_load[indices[6]],X_test_load[indices[7]],X_test_load[indices[8]],X_test_load[indices[9]]),axis=1)\n",
        "output2 = np.concatenate((X_test_load[indices[10]],X_test_load[indices[11]],X_test_load[indices[12]],X_test_load[indices[13]],X_test_load[indices[14]]),axis=1)\n",
        "output3 = np.concatenate((X_test_load[indices[15]],X_test_load[indices[16]],X_test_load[indices[17]],X_test_load[indices[18]],X_test_load[indices[19]]),axis=1)\n",
        "output4 = np.concatenate((X_test_load[indices[20]],X_test_load[indices[21]],X_test_load[indices[22]],X_test_load[indices[23]],X_test_load[indices[24]]),axis=1)\n",
        "final_output = img = np.concatenate((output,output1,output2,output3,output4), axis=0)\n",
        "from matplotlib import pyplot as plt\n",
        "%matplotlib inline        \n",
        "# Final matrix\n",
        "plt.imshow(final_output)"
      ],
      "execution_count": 24,
      "outputs": [
        {
          "output_type": "execute_result",
          "data": {
            "text/plain": [
              "<matplotlib.image.AxesImage at 0x7f345a0d0588>"
            ]
          },
          "metadata": {
            "tags": []
          },
          "execution_count": 24
        },
        {
          "output_type": "display_data",
          "data": {
            "image/png": "[encoded data removed]",
            "text/plain": [
              "<Figure size 432x288 with 1 Axes>"
            ]
          },
          "metadata": {
            "tags": []
          }
        }
      ]
    },
    {
      "cell_type": "code",
      "metadata": {
        "id": "uYcmpLOwGLZk",
        "colab_type": "code",
        "colab": {}
      },
      "source": [
        ""
      ],
      "execution_count": 0,
      "outputs": []
    }
  ]
}